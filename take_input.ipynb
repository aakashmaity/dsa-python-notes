{
 "cells": [
  {
   "cell_type": "code",
   "execution_count": 1,
   "metadata": {},
   "outputs": [
    {
     "name": "stdout",
     "output_type": "stream",
     "text": [
      "<class 'int'> 45\n"
     ]
    }
   ],
   "source": [
    "# taking integer as input\n",
    "n = int(input(\"Enter integer:\"))\n",
    "print(type(n), n)"
   ]
  },
  {
   "cell_type": "code",
   "execution_count": 2,
   "metadata": {},
   "outputs": [
    {
     "name": "stdout",
     "output_type": "stream",
     "text": [
      "<class 'float'> 588.55\n"
     ]
    }
   ],
   "source": [
    "# taking float as input\n",
    "f = float(input(\"Enter floating no :\"))\n",
    "print(type(f), f)"
   ]
  },
  {
   "cell_type": "code",
   "execution_count": 4,
   "metadata": {},
   "outputs": [
    {
     "name": "stdout",
     "output_type": "stream",
     "text": [
      "<class 'str'> wdw\n"
     ]
    }
   ],
   "source": [
    "# taking string as input\n",
    "s = input()\n",
    "print(type(s), s)"
   ]
  },
  {
   "cell_type": "code",
   "execution_count": 6,
   "metadata": {},
   "outputs": [
    {
     "name": "stdout",
     "output_type": "stream",
     "text": [
      "20\n"
     ]
    }
   ],
   "source": [
    "# a b c\n",
    "# 1 2 3\n",
    "a,b,c = map(int, input().split())\n",
    "print(a+b+c)"
   ]
  },
  {
   "cell_type": "code",
   "execution_count": 7,
   "metadata": {},
   "outputs": [
    {
     "name": "stdout",
     "output_type": "stream",
     "text": [
      "[4, 5, 2, 5, 2, 6, 4, 5]\n"
     ]
    }
   ],
   "source": [
    "# taking infinite number of inputs - take inputs in an array\n",
    "# a b c d e ....\n",
    "# 1 2 3 4 5 ....\n",
    "arr = [int(i) for i in input().split()]\n",
    "print(arr)\n"
   ]
  },
  {
   "cell_type": "code",
   "execution_count": 8,
   "metadata": {},
   "outputs": [
    {
     "name": "stdout",
     "output_type": "stream",
     "text": [
      "[5, 6, 7, 8, 5, 54555, 2, 5, 5, 6, 5, 5, 52]\n"
     ]
    }
   ],
   "source": [
    "# OR\n",
    "\n",
    "arr = list(map(int, input().split()))\n",
    "print(arr)"
   ]
  },
  {
   "cell_type": "code",
   "execution_count": 10,
   "metadata": {},
   "outputs": [
    {
     "name": "stdout",
     "output_type": "stream",
     "text": [
      "[1, 2, 0, 0, 1]\n"
     ]
    }
   ],
   "source": [
    "# 5     --> no of inputs\n",
    "# 1 2 0 0 1\n",
    "n = int(input()) # 5\n",
    "arr = [int(i) for i in input().split()]\n",
    "print(arr)"
   ]
  },
  {
   "cell_type": "code",
   "execution_count": 11,
   "metadata": {},
   "outputs": [
    {
     "name": "stdout",
     "output_type": "stream",
     "text": [
      "[10, 20, 30]\n"
     ]
    }
   ],
   "source": [
    "# 3      --> no of inputs\n",
    "# 10\n",
    "# 20\n",
    "# 30\n",
    "arr=[]\n",
    "n = int(input()) # 3\n",
    "for i in range(n):\n",
    "    ele = int(input())\n",
    "    arr.append(ele)\n",
    "print(arr)"
   ]
  },
  {
   "cell_type": "code",
   "execution_count": 12,
   "metadata": {},
   "outputs": [
    {
     "name": "stdout",
     "output_type": "stream",
     "text": [
      "[10, 20, 30]\n",
      "[1, 2, 3, 4, 5]\n"
     ]
    }
   ],
   "source": [
    "# 2          --> no of queries\n",
    "# 3          --> size 1\n",
    "# 10 20 30 \n",
    "# 5          --> size 2\n",
    "# 1 2 3 4 5\n",
    "q = int(input())  # 2\n",
    "for i in range(q):\n",
    "    n = int(input()) # 3 and 5\n",
    "    arr = [int(i) for i in input().split()]\n",
    "    print(arr)"
   ]
  },
  {
   "cell_type": "code",
   "execution_count": 13,
   "metadata": {},
   "outputs": [
    {
     "name": "stdout",
     "output_type": "stream",
     "text": [
      "<class 'set'> {8, 2, 4, 5}\n"
     ]
    }
   ],
   "source": [
    "# taking set as input\n",
    "s = set(map(int, input().split()))\n",
    "print(type(s), s)"
   ]
  },
  {
   "cell_type": "code",
   "execution_count": 16,
   "metadata": {},
   "outputs": [],
   "source": [
    "# 2-D array\n",
    "# 3 4\n",
    "# 1 2 3 4 \n",
    "# 4 5 6 9\n",
    "# 7 8 9 8"
   ]
  },
  {
   "cell_type": "code",
   "execution_count": 17,
   "metadata": {},
   "outputs": [
    {
     "name": "stdout",
     "output_type": "stream",
     "text": [
      "[[1, 2, 3], [5, 6, 4], [4, 5, 7]]\n"
     ]
    }
   ],
   "source": [
    "rows, cols = map(int, input().split())\n",
    "matrix = []\n",
    "\n",
    "for _ in range(rows):\n",
    "    row = [int(i) for i in input().split()]  # Take input for each row\n",
    "    matrix.append(row)\n",
    "\n",
    "print(matrix)"
   ]
  },
  {
   "cell_type": "code",
   "execution_count": null,
   "metadata": {},
   "outputs": [],
   "source": []
  }
 ],
 "metadata": {
  "kernelspec": {
   "display_name": "Python 3",
   "language": "python",
   "name": "python3"
  },
  "language_info": {
   "codemirror_mode": {
    "name": "ipython",
    "version": 3
   },
   "file_extension": ".py",
   "mimetype": "text/x-python",
   "name": "python",
   "nbconvert_exporter": "python",
   "pygments_lexer": "ipython3",
   "version": "3.12.1"
  }
 },
 "nbformat": 4,
 "nbformat_minor": 2
}
