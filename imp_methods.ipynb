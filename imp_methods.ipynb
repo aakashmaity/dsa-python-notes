{
 "cells": [
  {
   "cell_type": "code",
   "execution_count": null,
   "metadata": {},
   "outputs": [
    {
     "data": {
      "text/plain": [
       "12\n"
      ]
     },
     "metadata": {},
     "output_type": "display_data"
    }
   ],
   "source": [
    "# sumation of all array elements\n",
    "arr = [5, 1, 0, 2, 3, 1]\n",
    "print(sum(arr))  # 12"
   ]
  },
  {
   "cell_type": "code",
   "execution_count": null,
   "metadata": {},
   "outputs": [
    {
     "data": {
      "text/plain": [
       "[0, 1, 1, 2, 3, 5]\n"
      ]
     },
     "metadata": {},
     "output_type": "display_data"
    }
   ],
   "source": [
    "# sort the array in ascending order\n",
    "print(sorted(arr))"
   ]
  },
  {
   "cell_type": "code",
   "execution_count": null,
   "metadata": {},
   "outputs": [
    {
     "data": {
      "text/plain": [
       "[5, 3, 2, 1, 1, 0]\n"
      ]
     },
     "metadata": {},
     "output_type": "display_data"
    }
   ],
   "source": [
    "# sort the array in descending order\n",
    "print(sorted(arr, reverse=True))"
   ]
  },
  {
   "cell_type": "code",
   "execution_count": null,
   "metadata": {},
   "outputs": [
    {
     "data": {
      "text/plain": [
       "[1, 3, 2, 0, 1, 5]\n"
      ]
     },
     "metadata": {},
     "output_type": "display_data"
    }
   ],
   "source": [
    "# reverse the original list\n",
    "print(list(reversed(arr)))"
   ]
  },
  {
   "cell_type": "code",
   "execution_count": null,
   "metadata": {},
   "outputs": [
    {
     "data": {
      "text/plain": [
       "0 5\n",
       "1 1\n",
       "2 0\n",
       "3 2\n",
       "4 3\n",
       "5 1\n"
      ]
     },
     "metadata": {},
     "output_type": "display_data"
    }
   ],
   "source": [
    "# traverse a list with index\n",
    "for i, val in enumerate(arr):\n",
    "    print(i, val)"
   ]
  },
  {
   "cell_type": "code",
   "execution_count": null,
   "metadata": {},
   "outputs": [
    {
     "data": {
      "text/plain": [
       "0\n",
       "None\n",
       "dict_keys(['apple', 'orange', 'banana', 'jackfruit'])\n",
       "dict_values([3, 1, 1, 0])\n",
       "dict_items([('apple', 3), ('orange', 1), ('banana', 1), ('jackfruit', 0)])\n"
      ]
     },
     "metadata": {},
     "output_type": "display_data"
    }
   ],
   "source": [
    "# Dictionary\n",
    "a = ['apple','orange','apple','banana','apple']\n",
    "from collections import defaultdict\n",
    "d = defaultdict(int)\n",
    "for item in a:\n",
    "    d[item] += 1\n",
    "\n",
    "print(d['jackfruit'])      # 0 - 'jackfruit' is added to the dictionary\n",
    "print(d.get('pine'))       # None\n",
    "print(d.keys())\n",
    "print(d.values())\n",
    "print(d.items())\n",
    "# When you need to check if a key exists before adding it \n",
    "# (since it automatically creates missing keys)."
   ]
  },
  {
   "cell_type": "code",
   "execution_count": 10,
   "metadata": {},
   "outputs": [
    {
     "name": "stdout",
     "output_type": "stream",
     "text": [
      "{'a': [1, 2, 'hello'], 'b': [9], 'c': ['hi']}\n"
     ]
    }
   ],
   "source": [
    "from collections import defaultdict\n",
    "\n",
    "dd = defaultdict(list)\n",
    "\n",
    "dd['a'].append(1)\n",
    "dd['a'].append(2)\n",
    "dd['a'].append(\"hello\")\n",
    "dd['b'].append(9)\n",
    "dd['c'].append(\"hi\")\n",
    "\n",
    "print(dict(dd))"
   ]
  },
  {
   "cell_type": "code",
   "execution_count": null,
   "metadata": {},
   "outputs": [
    {
     "data": {
      "text/plain": [
       "[(13, -30), (4, 10), (9, 10), (1, 20)]\n"
      ]
     },
     "metadata": {},
     "output_type": "display_data"
    }
   ],
   "source": [
    "# Sort list of tuples by second element\n",
    "a = [(1, 20), (4, 10), (9, 10), (13, -30)]\n",
    "a.sort(key=lambda x: x[1])      # for decreasing order pass \"reverse=True\" argument\n",
    "print(a)"
   ]
  },
  {
   "cell_type": "code",
   "execution_count": null,
   "metadata": {},
   "outputs": [
    {
     "data": {
      "text/plain": [
       "[(1, 4), (2, 5), (3, 6)]\n"
      ]
     },
     "metadata": {},
     "output_type": "display_data"
    }
   ],
   "source": [
    "# Merges multiple iterables into tuples\n",
    "a = [1, 2, 3]\n",
    "b = [4, 5, 6]\n",
    "d = zip(a, b)\n",
    "print(list(d))"
   ]
  },
  {
   "cell_type": "code",
   "execution_count": null,
   "metadata": {},
   "outputs": [
    {
     "data": {
      "text/plain": [
       "[(1, 2), (1, 3), (2, 3)]\n",
       "[(1, 2), (1, 3), (2, 1), (2, 3), (3, 1), (3, 2)]\n",
       "[1, 3, 6]\n"
      ]
     },
     "metadata": {},
     "output_type": "display_data"
    }
   ],
   "source": [
    "# Combinations and permutations\n",
    "from itertools import combinations, permutations, accumulate\n",
    "b = [1,2,3]\n",
    "print(list(combinations(b, 2)))     # [(1,2), (1,3), (2,3)]\n",
    "print(list(permutations(b, 2)))     # [(1,2), (1,3), (2,1), (2,3), (3,1), (3,2)]\n",
    "print (list(accumulate(b)))         # [1, 3, 6]\n"
   ]
  },
  {
   "cell_type": "code",
   "execution_count": null,
   "metadata": {},
   "outputs": [
    {
     "data": {
      "text/plain": [
       "1\n",
       "n smallest elements:  [2]\n",
       "n largest elements:  [5]\n",
       "[2, 3, 4, 5]\n",
       "Merged heap: [2, 2, 3, 4, 4, 5, 6, 8]\n"
      ]
     },
     "metadata": {},
     "output_type": "display_data"
    }
   ],
   "source": [
    "\n",
    "# heap\n",
    "import heapq\n",
    "h1 = [3, 1, 4, 2]\n",
    "heapq.heapify(h1)\n",
    "heapq.heappush(h1,5)\n",
    "print(heapq.heappop(h1))  # Output: 1 (smallest element)\n",
    "print(\"n smallest elements: \",heapq.nsmallest(1, h1))\n",
    "print(\"n largest elements: \",heapq.nlargest(1, h1))\n",
    "print(h1)\n",
    "\n",
    "h2 = [2, 4, 6, 8]\n",
    "\n",
    "# Merging the lists\n",
    "h3 = list(heapq.merge(h1, h2))\n",
    "print(\"Merged heap:\", h3)"
   ]
  },
  {
   "cell_type": "code",
   "execution_count": 8,
   "metadata": {},
   "outputs": [
    {
     "name": "stdout",
     "output_type": "stream",
     "text": [
      "{10: 2, 30: 2, 50: 1}\n"
     ]
    }
   ],
   "source": [
    "# Counter\n",
    "from collections import Counter\n",
    "a = [10, 10, 30, 30, 50]\n",
    "c = Counter(a)\n",
    "print(dict(c))"
   ]
  },
  {
   "cell_type": "code",
   "execution_count": 2,
   "metadata": {},
   "outputs": [],
   "source": [
    "# String Operations\n",
    "\n",
    "# strip() → Removes leading/trailing whitespace.\n",
    "# split() → Splits a string into a list\n",
    "# join() → Joins a list into a string\n",
    "# find(), index() → Finds a substring\n",
    "# replace() → Replaces a substring"
   ]
  },
  {
   "cell_type": "code",
   "execution_count": null,
   "metadata": {},
   "outputs": [
    {
     "data": {
      "text/plain": [
       "My*Name*Is\n"
      ]
     },
     "metadata": {},
     "output_type": "display_data"
    }
   ],
   "source": [
    "# join \n",
    "words = [\"My\", \"Name\",\"Is\"]\n",
    "print(\"*\".join(words))  # My*Name*Is"
   ]
  },
  {
   "cell_type": "code",
   "execution_count": null,
   "metadata": {},
   "outputs": [
    {
     "data": {
      "text/plain": [
       "abc daac\n"
      ]
     },
     "metadata": {},
     "output_type": "display_data"
    }
   ],
   "source": [
    "# lower\n",
    "letters = \"ABC DAAC\"\n",
    "print(letters.lower())"
   ]
  },
  {
   "cell_type": "code",
   "execution_count": null,
   "metadata": {},
   "outputs": [
    {
     "data": {
      "text/plain": [
       "3\n"
      ]
     },
     "metadata": {},
     "output_type": "display_data"
    }
   ],
   "source": [
    "# count - number of times a letter is present\n",
    "print(letters.count('A'))"
   ]
  },
  {
   "cell_type": "code",
   "execution_count": null,
   "metadata": {},
   "outputs": [
    {
     "data": {
      "text/plain": [
       "akas  h\n"
      ]
     },
     "metadata": {},
     "output_type": "display_data"
    }
   ],
   "source": [
    "# strip - remove leading/trailing spaces\n",
    "str = \"      akas  h     \"\n",
    "print(str.strip())"
   ]
  },
  {
   "cell_type": "code",
   "execution_count": null,
   "metadata": {},
   "outputs": [
    {
     "data": {
      "text/plain": [
       "['welcome', 'to', 'the', 'jungle']\n"
      ]
     },
     "metadata": {},
     "output_type": "display_data"
    }
   ],
   "source": [
    "# split - splits the string into a list\n",
    "txt = \"welcome to the jungle\"\n",
    "x = txt.split()\n",
    "print(x)"
   ]
  },
  {
   "cell_type": "code",
   "execution_count": null,
   "metadata": {},
   "outputs": [
    {
     "data": {
      "text/plain": [
       "True\n",
       "False\n"
      ]
     },
     "metadata": {},
     "output_type": "display_data"
    }
   ],
   "source": [
    "# isnumeric - the characters are numeric (0-9), otherwise False.\n",
    "# \"-1\" and \"1.5\" are NOT considered numeric\n",
    "print(\"123\".isnumeric())\n",
    "print(\"-1\".isnumeric())"
   ]
  },
  {
   "cell_type": "code",
   "execution_count": null,
   "metadata": {},
   "outputs": [
    {
     "data": {
      "text/plain": [
       "True\n",
       "False\n",
       "True\n"
      ]
     },
     "metadata": {},
     "output_type": "display_data"
    }
   ],
   "source": [
    "# isalnum() - the characters are alphanumeric (a-z, A-Z and 0-9), otherwise False.\n",
    "print(\"123\".isalnum())\n",
    "print(\"a b\".isalnum())\n",
    "print(\"a1\".isalnum())"
   ]
  },
  {
   "cell_type": "code",
   "execution_count": null,
   "metadata": {},
   "outputs": [
    {
     "data": {
      "text/plain": [
       "True\n",
       "False\n",
       "False\n"
      ]
     },
     "metadata": {},
     "output_type": "display_data"
    }
   ],
   "source": [
    "# isalpha() - the characters are alphabetical (a-z and A-Z), otherwise False.\n",
    "print(\"abc\".isalpha())\n",
    "print(\"a b\".isalpha())\n",
    "print(\"a1\".isalpha())"
   ]
  },
  {
   "cell_type": "code",
   "execution_count": null,
   "metadata": {},
   "outputs": [
    {
     "data": {
      "text/plain": [
       "4\n"
      ]
     },
     "metadata": {},
     "output_type": "display_data"
    }
   ],
   "source": [
    "# find() - Returns the index within the string where the first sub-string is found, otherwise -1.\n",
    "print(\"my name is akash\".find(\"a\"))"
   ]
  },
  {
   "cell_type": "code",
   "execution_count": null,
   "metadata": {},
   "outputs": [],
   "source": [
    "# Math Operations\n",
    "# abs() → Absolute value.\n",
    "# pow(x, y, mod) → Computes (x^y) % mod efficiently.\n",
    "# divmod(x, y) → Returns (x // y, x % y).\n",
    "# math.gcd(a, b) → Greatest common divisor.\n",
    "# math.lcm(a, b) → Least common multiple.\n",
    "# math.factorial(n) → Returns n!.\n",
    "# math.sqrt(n) → Square root."
   ]
  },
  {
   "cell_type": "code",
   "execution_count": null,
   "metadata": {},
   "outputs": [
    {
     "data": {
      "text/plain": [
       "10\n",
       "9\n"
      ]
     },
     "metadata": {},
     "output_type": "display_data"
    }
   ],
   "source": [
    "import math\n",
    "\n",
    "print(math.ceil(9.6))\n",
    "print(math.floor(9.6))"
   ]
  },
  {
   "cell_type": "code",
   "execution_count": null,
   "metadata": {},
   "outputs": [
    {
     "data": {
      "text/plain": [
       "5\n",
       "120\n"
      ]
     },
     "metadata": {},
     "output_type": "display_data"
    }
   ],
   "source": [
    "print(math.gcd(10, 15)) \n",
    "print(math.factorial(5))"
   ]
  },
  {
   "cell_type": "code",
   "execution_count": 1,
   "metadata": {},
   "outputs": [
    {
     "name": "stdout",
     "output_type": "stream",
     "text": [
      "2\n"
     ]
    }
   ],
   "source": [
    "# floor division, performs int division and rounds down to the nearest whole number.\n",
    "print( 26//9) "
   ]
  },
  {
   "cell_type": "code",
   "execution_count": null,
   "metadata": {},
   "outputs": [],
   "source": []
  }
 ],
 "metadata": {
  "kernelspec": {
   "display_name": "Python 3",
   "language": "python",
   "name": "python3"
  },
  "language_info": {
   "codemirror_mode": {
    "name": "ipython",
    "version": 3
   },
   "file_extension": ".py",
   "mimetype": "text/x-python",
   "name": "python",
   "nbconvert_exporter": "python",
   "pygments_lexer": "ipython3",
   "version": "3.12.1"
  }
 },
 "nbformat": 4,
 "nbformat_minor": 2
}
